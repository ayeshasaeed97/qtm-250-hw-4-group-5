{
  "nbformat": 4,
  "nbformat_minor": 0,
  "metadata": {
    "colab": {
      "name": "Homework 4",
      "provenance": [],
      "collapsed_sections": []
    },
    "kernelspec": {
      "name": "python3",
      "display_name": "Python 3"
    },
    "language_info": {
      "name": "python"
    }
  },
  "cells": [
    {
      "cell_type": "markdown",
      "source": [
        "# Introduction\n",
        "\n",
        "The consumer experience is vital to companies, and words can be very powerful when determining the fate of a product. Our group wanted to see how effectively products on Amazon with hundreds, thousands, or even tens-of-thousands of reviews can be analyzed. We will use the Cloud Natural Language API to measure its effectiveness in detecting positive and negative jargon and emotions from real customer review of popular Amazon products."
      ],
      "metadata": {
        "id": "w9rq04rRZv8o"
      }
    },
    {
      "cell_type": "code",
      "execution_count": null,
      "metadata": {
        "id": "_l6-uZyZNKsB"
      },
      "outputs": [],
      "source": [
        "import getpass\n",
        "APIKEY = getpass.getpass()"
      ]
    },
    {
      "cell_type": "code",
      "source": [
        "APIKEY"
      ],
      "metadata": {
        "id": "XEpahxnvRrYT"
      },
      "execution_count": null,
      "outputs": []
    },
    {
      "cell_type": "code",
      "source": [
        "# import build\n",
        "from googleapiclient.discovery import build"
      ],
      "metadata": {
        "id": "YSBB-3o-SBQS"
      },
      "execution_count": null,
      "outputs": []
    },
    {
      "cell_type": "markdown",
      "source": [
        "# Methodology\n",
        "\n",
        "Our approach to our research involved looking at products on Amazon that were considered relatively popular in their categories of clothing, shoes, and electronics. Many of the products' reviews analyzed were \"Amazon's Choice\" products that are at the top of the search page. We looked at top reviews for a product (4 or 5 stars) as well as negative reviews. They were compiled into a spreadsheet (linked below) that contains factors such as the review, whether it was good or bad, the overall rating, number of ratings, and calculated values from our the API such as average magnitude.\n",
        "\n",
        "\n",
        "[Raw Data in Google Spreadsheet](https://docs.google.com/spreadsheets/d/1VXJOkV1LXx0ZD6oOg-_DpD6E0cWMeh2T5dD7-6H52VU/edit#gid=879487987)"
      ],
      "metadata": {
        "id": "8UfwrE4f5WZA"
      }
    },
    {
      "cell_type": "markdown",
      "source": [
        "# Data Table"
      ],
      "metadata": {
        "id": "3rRwWN908ErH"
      }
    },
    {
      "cell_type": "code",
      "execution_count": 46,
      "metadata": {
        "id": "JiJVCmu3dhFa",
        "colab": {
          "base_uri": "https://localhost:8080/",
          "height": 883
        },
        "outputId": "a980f80d-212c-4441-ef85-19867e3e1a17"
      },
      "outputs": [
        {
          "output_type": "stream",
          "name": "stdout",
          "text": [
            "[['Product Type', 'Data #', 'Quotation', 'Average Polarity', 'Average Magnitude', 'Review Number', 'Link to Product', 'Overall Rating for Product (out of 5)', 'Rating (stars)', 'Name for Who Found the Data'], ['Clothing', 'Product #1 - Good', \"   'This top is so pretty, absolutely LOVE the petal sleeves!', 'This top is like a t-shirt but with fancier sleeves, which makes it easy to dress up but you still get the comfort of a tee.', 'The material is very soft, fairly lightweight & loose fit.','I’m a big fan of v-neck shirts, I think they are more feminine.', 'The v-neckline combined with the petal sleeves makes this top very flattering & pretty.','True to size & color is accurate to stock photo.', 'Overall, I am very happy with this purchase.', 'Great product, good condition & fast shipping!', 'If you found my review helpful, I would appreciate you clicking “helpful” - thanks!!!'\", '1', '0.83', '12,392', 'https://www.amazon.com/Shirts-Women-Summer-Sleeve-Black/dp/B08S34FZKM/ref=zg-bs_fashion_1/131-2243258-2541518?pd_rd_w=NJy3D&pf_rd_p=1e7b1982-fb44-47aa-b1ce-d356a8609d66&pf_rd_r=0VDJVVT3691JXF5QST67&pd_rd_r=aaa70fb4-b64f-4286-8fc6-2af1564fec77&pd_rd_wg=CCfvF&pd_rd_i=B08S3J4WHL&th=1&psc=1', '4.4', '5', 'Hasong Cho'], ['Clothing', 'Product #1 - Bad', \"Fabric quality is horrendous and varies from shirt to shirt.', 'I had to reorder due to the first top being frayed and in questionable condition, but the second top that arrived was a completely different fabric that was too shiny to be a casual black T-shirt type of material.', 'In a word, tacky.' ,'The bag it was enclosed in looked like it was reused multiple times from past returns.', 'Such a hassle to order and return items that do not match the photos or vendor’s description.','The style would be cute to wear if the manufacturer or vendor cared about quality and consistency.'\", '-1', '0.7', '12,392', 'https://www.amazon.com/Shirts-Women-Summer-Sleeve-Black/dp/B08S34FZKM/ref=zg-bs_fashion_1/131-2243258-2541518?pd_rd_w=NJy3D&pf_rd_p=1e7b1982-fb44-47aa-b1ce-d356a8609d66&pf_rd_r=0VDJVVT3691JXF5QST67&pd_rd_r=aaa70fb4-b64f-4286-8fc6-2af1564fec77&pd_rd_wg=CCfvF&pd_rd_i=B08S3J4WHL&th=1&psc=1', '4.4', '1', 'Ayesha Saeed'], ['Clothing', 'Product #2 - Good', \"My favorite shirts I’ve been searching for more polo shirts, but a variety pack and my criteria was basically a light blue, darker shade of blue, and another black shirt.', 'To find this pack felt awesome haha I’m very happy to have found these!', 'You’ll never regret buying these t shirts they last forever, keep its shape very nice, over the course of time becomes significantly more comfortable, and somehow these t shirts just look sharp.', 'I can’t really describe it, but Calvin Klein also does a good job doing this.', 'Not quite sure how they do it, but I’ll never complain about that!'\", '1', '0.82', '10033', 'https://www.amazon.com/Polo-Ralph-Lauren-Classic-T-Shirt/dp/B07GBWRBHN/ref=sr_1_1?keywords=polo%2Bralph%2Blauren%2Bshirts%2Bfor%2Bmen&qid=1650482863&sprefix=polo%2Bralph%2Blauren%2Caps%2C210&sr=8-1&th=1', '4.6', '5', 'Hasong Cho'], ['Clothing', 'Product #2 - Bad', \"The fit was ok...but the collars are terrible.', 'They are bunched up and look like a $2 shirt from Walmart.'\", '-1', '0.65', '10033', 'https://www.amazon.com/Polo-Ralph-Lauren-Classic-T-Shirt/dp/B07GBWRBHN/ref=sr_1_1?keywords=polo%2Bralph%2Blauren%2Bshirts%2Bfor%2Bmen&qid=1650482863&sprefix=polo%2Bralph%2Blauren%2Caps%2C210&sr=8-1&th=1', '4.6', '1', 'Hasong Cho'], ['Clothing', 'Product #3 - Good', \"very cute, and very comfortable, was very pleased'\\n\", '1', '0.9', '469', 'https://www.amazon.com/Summer-Tshirt-Casual-Trendy-Blouses/dp/B097Q3WQZ2/ref=sr_1_21?crid=1EDV55EULAT5L&keywords=tshirt%2Bwomen&qid=1650483411&refinements=p_72%3A2661620011&rnid=2661617011&sprefix=tshirt%2Bwomen%2Caps%2C113&sr=8-21&th=1&psc=1', '3.2', '5', 'Hasong Cho'], ['Clothing', 'Product #3 - Bad', \"The delivery went well, but the size is way off.', 'I usually wear and XL, so I ordered that size.', 'Well it was very tight.', 'I would of needed to order two more sizes for it to fit me.', 'I also did not like the feel of the fabric.', 'I would not recommend this product.'\\n\", '-1', '0.53', '469', 'https://www.amazon.com/Summer-Tshirt-Casual-Trendy-Blouses/dp/B097Q3WQZ2/ref=sr_1_21?crid=1EDV55EULAT5L&keywords=tshirt%2Bwomen&qid=1650483411&refinements=p_72%3A2661620011&rnid=2661617011&sprefix=tshirt%2Bwomen%2Caps%2C113&sr=8-21&th=1&psc=1', '3.2', '3', 'Hasong Cho'], ['Shoes', 'Product #4- Good', \"Loved the style and the comfort.', 'I would buy again.', 'The sole is fabulous.', 'They fit like a glove.', 'Superior comfort.', 'Love these! Glitter is beautiful.', 'These are so cute.'\", '1', '1.04', '40,359', 'https://www.amazon.com/Hey-Dude-Womens-Loafer-Shoes/dp/B07DPSM91T/ref=sr_1_16?crid=3V813CRX1EKH1&keywords=shoes&qid=1650486083&sprefix=shoes%2Caps%2C128&sr=8-16&th=1&psc=1', '4.7', '5', 'Julie Zhang'], ['Shoes', 'Product #4- Bad', \"They are nothing like what is pictured.', 'color & style are way off so I went to return them.', 'fit was horrible.'\", '-1', '0.8', '40,359', 'https://www.amazon.com/Hey-Dude-Womens-Loafer-Shoes/dp/B07DPSM91T/ref=sr_1_16?crid=3V813CRX1EKH1&keywords=shoes&qid=1650486083&sprefix=shoes%2Caps%2C128&sr=8-16&th=1&psc=1', '4.7', '1', 'Julie Zhang'], ['Shoes', 'Product #5- Good', \"No tired feet at the end of the day.', 'New favorite shoes.', 'Will buy more.'\", '1', '0.9', '9,804', 'https://www.amazon.com/Running-Lightweight-Cushion-Athletic-Walking/dp/B08PC1XH2B/ref=sr_1_2_sspa?crid=1U8UG64YVZQXN&keywords=sneakers+for+women&qid=1650486742&sprefix=snea%2Caps%2C116&sr=8-2-spons&psc=1&spLa=ZW5jcnlwdGVkUXVhbGlmaWVyPUEyVzVMOFVHMTM0SFUyJmVuY3J5cHRlZElkPUEwMTc1MzA3MU1SME81R0tWRkdRMyZlbmNyeXB0ZWRBZElkPUExMDMwNDExM0xSRFc3T05KSVU3MCZ3aWRnZXROYW1lPXNwX2F0ZiZhY3Rpb249Y2xpY2tSZWRpcmVjdCZkb05vdExvZ0NsaWNrPXRydWU=', '4.3', '5', 'Julie Zhang'], ['Shoes', 'Product #5- Bad', \"bottom of the shoe is already tearing away.', 'Less than 3 months of wear.'\", '-1', '0.4', '9,804', 'https://www.amazon.com/Running-Lightweight-Cushion-Athletic-Walking/dp/B08PC1XH2B/ref=sr_1_2_sspa?crid=1U8UG64YVZQXN&keywords=sneakers+for+women&qid=1650486742&sprefix=snea%2Caps%2C116&sr=8-2-spons&psc=1&spLa=ZW5jcnlwdGVkUXVhbGlmaWVyPUEyVzVMOFVHMTM0SFUyJmVuY3J5cHRlZElkPUEwMTc1MzA3MU1SME81R0tWRkdRMyZlbmNyeXB0ZWRBZElkPUExMDMwNDExM0xSRFc3T05KSVU3MCZ3aWRnZXROYW1lPXNwX2F0ZiZhY3Rpb249Y2xpY2tSZWRpcmVjdCZkb05vdExvZ0NsaWNrPXRydWU=', '4.3', '2', 'Julie Zhang'], ['Shoes', 'Product #6 - Good', \"They are so comfortable.', 'I’ve received so many compliments.'\", '1', '0.9', '29,430', 'https://www.amazon.com/dp/B0878SLRFN/ref=sspa_dk_detail_4?psc=1&pd_rd_i=B0878SLRFN&pd_rd_w=xSWPT&pf_rd_p=f6ec2125-6e9c-413e-8cd4-35afc8257f69&pd_rd_wg=Lw8kG&pf_rd_r=PTGV900N5HFPTXNT2FDP&pd_rd_r=2b7722d2-f317-4072-88d3-2804a59ca086&s=shoes&spLa=ZW5jcnlwdGVkUXVhbGlmaWVyPUEyNEs1U0ozQzVQUFJUJmVuY3J5cHRlZElkPUEwNDYwMDkzMU9JM1dINlk3T0NGMiZlbmNyeXB0ZWRBZElkPUEwNjc0MTI4T1VSSUhYS0pQOFFXJndpZGdldE5hbWU9c3BfZGV0YWlsX3RoZW1hdGljJmFjdGlvbj1jbGlja1JlZGlyZWN0JmRvTm90TG9nQ2xpY2s9dHJ1ZQ==', '4.3', '5', 'Julie Zhang'], ['Shoes', 'Product #6- Bad', \"Product very loose in the shoebox. ', 'Just so you know, they cost triple to send back if they don’t fit!' \", '-1', '0.65', '29,430', 'https://www.amazon.com/dp/B0878SLRFN/ref=sspa_dk_detail_4?psc=1&pd_rd_i=B0878SLRFN&pd_rd_w=xSWPT&pf_rd_p=f6ec2125-6e9c-413e-8cd4-35afc8257f69&pd_rd_wg=Lw8kG&pf_rd_r=PTGV900N5HFPTXNT2FDP&pd_rd_r=2b7722d2-f317-4072-88d3-2804a59ca086&s=shoes&spLa=ZW5jcnlwdGVkUXVhbGlmaWVyPUEyNEs1U0ozQzVQUFJUJmVuY3J5cHRlZElkPUEwNDYwMDkzMU9JM1dINlk3T0NGMiZlbmNyeXB0ZWRBZElkPUEwNjc0MTI4T1VSSUhYS0pQOFFXJndpZGdldE5hbWU9c3BfZGV0YWlsX3RoZW1hdGljJmFjdGlvbj1jbGlja1JlZGlyZWN0JmRvTm90TG9nQ2xpY2s9dHJ1ZQ==', '4.3', '1', 'Julie Zhang'], ['Electronics', 'Product #7- Good', \"I'm soooooo happy with this amazing device!!!! I want to give all my friends and family ones as a gifts and I want to buy one for my back door too! This has been the best 100$ investment this year-well worth it!!! I wish I would have bought one sooner. Also, the neighbors app....amazing and I can't stop checking it out.\", '1', '0.9', '93,949', 'https://www.amazon.com/Ring-Video-Doorbell-Satin-Nickel-2020-Release/dp/B08N5NQ869/ref=sr_1_1?keywords=ring+doorbell&qid=1650497383&sprefix=RING%2Caps%2C133&sr=8-1', '4.7', '5', 'Ayesha Saeed'], ['Electronics', 'Product #7- Bad', \"Don't waste your money this product is awful. It doesn't catch motion of a human until someone is right up on it and then it's too late for the image to be usefulvacated it will catch their ear as they walk by. The mail man it will catch pull up but vacated ur takes him a second to get out the car or stops recording veggie he can get to it and it catches every single car that goes by my house no matter how I change the settings and detection around. It is literal garbage in ever way and not useful for any application. The notification it seems to my phone is also delayed and it is getting good signal from our internet. It takes all day to recharge it as well. This was a total waste of money!\", '-1', '0.66', '93,949', 'https://www.amazon.com/Ring-Video-Doorbell-Satin-Nickel-2020-Release/dp/B08N5NQ869/ref=sr_1_1?keywords=ring+doorbell&qid=1650497383&sprefix=RING%2Caps%2C133&sr=8-2', '4.7', '1', 'Ayesha Saeed'], ['Electronics', 'Product #8- Good', \"This USB C Hub comes with a great quality for a great price. Definitely worth my money. It is light weighted and small size, so it is easy for traveling. I wish I can get this earlier. This hub is a pretty cool design! I would highly recommend this to people who need a hub like this and don't want to spend a lot of money.\", '1', '0.9', '32448', 'https://www.amazon.com/Hiearcool-MacBook-Multiport-Compatible-Nintendo/dp/B07WPTG7NX/ref=sr_1_4?keywords=usbc%2Badapter&qid=1650497889&sprefix=usbc%2Bad%2Caps%2C83&sr=8-4&th=1', '4.6', '5', 'Ayesha Saeed'], ['Electronics', 'Product #8- Bad', 'I was truly disappointed and embarrassed. I will be returning this product, and buying something with better reviews and hopefully works without getting so hot.', '-1', '0.85', '32,448', 'https://www.amazon.com/Hiearcool-MacBook-Multiport-Compatible-Nintendo/dp/B07WPTG7NX/ref=sr_1_4?keywords=usbc%2Badapter&qid=1650497889&sprefix=usbc%2Bad%2Caps%2C83&sr=8-4&th=1', '4.6', '1', 'Ayesha Saeed'], ['Electronics', 'Product #9- Good', 'This mouse is very nice! I am a nurse in a long term care facility and we never use the word “quiet” but the clicks on here are nonexistent. It’s nice to not have to hear hundreds of clicks because it’s annoying after awhile, this is an awesome perk for me.', '1', '0.87', '37859', 'https://www.amazon.com/Wireless-Uiosmuph-Rechargeable-Portable-Computer/dp/B0836GXKKB/ref=sr_1_3?crid=1Q77MV32DOLO8&keywords=wireless+mouse&qid=1650498069&sprefix=wireless+mouse%2Caps%2C85&sr=8-3', '4.4', '5', 'Ayesha Saeed'], ['Electronics', 'Product #9- Bad', 'It is exactly what it said it was, but I was very disappointed to find out that I can\\'t change what the buttons do. The provided poorly-edited, single-fold 6\"x4\" scrap of paper called \"Quick User Manual\" is obviously meant to apply to dozens of different models and gives no details beyond setup.', '-1', '0.7', '37859', 'https://www.amazon.com/Wireless-Uiosmuph-Rechargeable-Portable-Computer/dp/B0836GXKKB/ref=sr_1_3?crid=1Q77MV32DOLO8&keywords=wireless+mouse&qid=1650498069&sprefix=wireless+mouse%2Caps%2C85&sr=8-3', '4.4', '2', 'Ayesha Saeed']]\n"
          ]
        },
        {
          "output_type": "execute_result",
          "data": {
            "text/plain": [
              "               0                  1  \\\n",
              "0   Product Type             Data #   \n",
              "1       Clothing  Product #1 - Good   \n",
              "2       Clothing   Product #1 - Bad   \n",
              "3       Clothing  Product #2 - Good   \n",
              "4       Clothing   Product #2 - Bad   \n",
              "5       Clothing  Product #3 - Good   \n",
              "6       Clothing   Product #3 - Bad   \n",
              "7          Shoes   Product #4- Good   \n",
              "8          Shoes    Product #4- Bad   \n",
              "9          Shoes   Product #5- Good   \n",
              "10         Shoes    Product #5- Bad   \n",
              "11         Shoes  Product #6 - Good   \n",
              "12         Shoes    Product #6- Bad   \n",
              "13   Electronics   Product #7- Good   \n",
              "14   Electronics    Product #7- Bad   \n",
              "15   Electronics   Product #8- Good   \n",
              "16   Electronics    Product #8- Bad   \n",
              "17   Electronics   Product #9- Good   \n",
              "18   Electronics    Product #9- Bad   \n",
              "\n",
              "                                                    2                 3  \\\n",
              "0                                           Quotation  Average Polarity   \n",
              "1      'This top is so pretty, absolutely LOVE the...                 1   \n",
              "2   Fabric quality is horrendous and varies from s...                -1   \n",
              "3   My favorite shirts I’ve been searching for mor...                 1   \n",
              "4   The fit was ok...but the collars are terrible....                -1   \n",
              "5   very cute, and very comfortable, was very plea...                 1   \n",
              "6   The delivery went well, but the size is way of...                -1   \n",
              "7   Loved the style and the comfort.', 'I would bu...                 1   \n",
              "8   They are nothing like what is pictured.', 'col...                -1   \n",
              "9   No tired feet at the end of the day.', 'New fa...                 1   \n",
              "10  bottom of the shoe is already tearing away.', ...                -1   \n",
              "11  They are so comfortable.', 'I’ve received so m...                 1   \n",
              "12  Product very loose in the shoebox. ', 'Just so...                -1   \n",
              "13  I'm soooooo happy with this amazing device!!!!...                 1   \n",
              "14  Don't waste your money this product is awful. ...                -1   \n",
              "15  This USB C Hub comes with a great quality for ...                 1   \n",
              "16  I was truly disappointed and embarrassed. I wi...                -1   \n",
              "17  This mouse is very nice! I am a nurse in a lon...                 1   \n",
              "18  It is exactly what it said it was, but I was v...                -1   \n",
              "\n",
              "                    4              5  \\\n",
              "0   Average Magnitude  Review Number   \n",
              "1                0.83         12,392   \n",
              "2                 0.7         12,392   \n",
              "3                0.82          10033   \n",
              "4                0.65          10033   \n",
              "5                 0.9            469   \n",
              "6                0.53            469   \n",
              "7                1.04         40,359   \n",
              "8                 0.8         40,359   \n",
              "9                 0.9          9,804   \n",
              "10                0.4          9,804   \n",
              "11                0.9         29,430   \n",
              "12               0.65         29,430   \n",
              "13                0.9         93,949   \n",
              "14               0.66         93,949   \n",
              "15                0.9          32448   \n",
              "16               0.85         32,448   \n",
              "17               0.87          37859   \n",
              "18                0.7          37859   \n",
              "\n",
              "                                                    6  \\\n",
              "0                                     Link to Product   \n",
              "1   https://www.amazon.com/Shirts-Women-Summer-Sle...   \n",
              "2   https://www.amazon.com/Shirts-Women-Summer-Sle...   \n",
              "3   https://www.amazon.com/Polo-Ralph-Lauren-Class...   \n",
              "4   https://www.amazon.com/Polo-Ralph-Lauren-Class...   \n",
              "5   https://www.amazon.com/Summer-Tshirt-Casual-Tr...   \n",
              "6   https://www.amazon.com/Summer-Tshirt-Casual-Tr...   \n",
              "7   https://www.amazon.com/Hey-Dude-Womens-Loafer-...   \n",
              "8   https://www.amazon.com/Hey-Dude-Womens-Loafer-...   \n",
              "9   https://www.amazon.com/Running-Lightweight-Cus...   \n",
              "10  https://www.amazon.com/Running-Lightweight-Cus...   \n",
              "11  https://www.amazon.com/dp/B0878SLRFN/ref=sspa_...   \n",
              "12  https://www.amazon.com/dp/B0878SLRFN/ref=sspa_...   \n",
              "13  https://www.amazon.com/Ring-Video-Doorbell-Sat...   \n",
              "14  https://www.amazon.com/Ring-Video-Doorbell-Sat...   \n",
              "15  https://www.amazon.com/Hiearcool-MacBook-Multi...   \n",
              "16  https://www.amazon.com/Hiearcool-MacBook-Multi...   \n",
              "17  https://www.amazon.com/Wireless-Uiosmuph-Recha...   \n",
              "18  https://www.amazon.com/Wireless-Uiosmuph-Recha...   \n",
              "\n",
              "                                        7               8  \\\n",
              "0   Overall Rating for Product (out of 5)  Rating (stars)   \n",
              "1                                     4.4               5   \n",
              "2                                     4.4               1   \n",
              "3                                     4.6               5   \n",
              "4                                     4.6               1   \n",
              "5                                     3.2               5   \n",
              "6                                     3.2               3   \n",
              "7                                     4.7               5   \n",
              "8                                     4.7               1   \n",
              "9                                     4.3               5   \n",
              "10                                    4.3               2   \n",
              "11                                    4.3               5   \n",
              "12                                    4.3               1   \n",
              "13                                    4.7               5   \n",
              "14                                    4.7               1   \n",
              "15                                    4.6               5   \n",
              "16                                    4.6               1   \n",
              "17                                    4.4               5   \n",
              "18                                    4.4               2   \n",
              "\n",
              "                              9  \n",
              "0   Name for Who Found the Data  \n",
              "1                    Hasong Cho  \n",
              "2                  Ayesha Saeed  \n",
              "3                    Hasong Cho  \n",
              "4                    Hasong Cho  \n",
              "5                    Hasong Cho  \n",
              "6                    Hasong Cho  \n",
              "7                   Julie Zhang  \n",
              "8                   Julie Zhang  \n",
              "9                   Julie Zhang  \n",
              "10                  Julie Zhang  \n",
              "11                  Julie Zhang  \n",
              "12                  Julie Zhang  \n",
              "13                 Ayesha Saeed  \n",
              "14                 Ayesha Saeed  \n",
              "15                 Ayesha Saeed  \n",
              "16                 Ayesha Saeed  \n",
              "17                 Ayesha Saeed  \n",
              "18                 Ayesha Saeed  "
            ],
            "text/html": [
              "\n",
              "  <div id=\"df-fb89502b-681e-4192-8c85-9fcddeb76ce0\">\n",
              "    <div class=\"colab-df-container\">\n",
              "      <div>\n",
              "<style scoped>\n",
              "    .dataframe tbody tr th:only-of-type {\n",
              "        vertical-align: middle;\n",
              "    }\n",
              "\n",
              "    .dataframe tbody tr th {\n",
              "        vertical-align: top;\n",
              "    }\n",
              "\n",
              "    .dataframe thead th {\n",
              "        text-align: right;\n",
              "    }\n",
              "</style>\n",
              "<table border=\"1\" class=\"dataframe\">\n",
              "  <thead>\n",
              "    <tr style=\"text-align: right;\">\n",
              "      <th></th>\n",
              "      <th>0</th>\n",
              "      <th>1</th>\n",
              "      <th>2</th>\n",
              "      <th>3</th>\n",
              "      <th>4</th>\n",
              "      <th>5</th>\n",
              "      <th>6</th>\n",
              "      <th>7</th>\n",
              "      <th>8</th>\n",
              "      <th>9</th>\n",
              "    </tr>\n",
              "  </thead>\n",
              "  <tbody>\n",
              "    <tr>\n",
              "      <th>0</th>\n",
              "      <td>Product Type</td>\n",
              "      <td>Data #</td>\n",
              "      <td>Quotation</td>\n",
              "      <td>Average Polarity</td>\n",
              "      <td>Average Magnitude</td>\n",
              "      <td>Review Number</td>\n",
              "      <td>Link to Product</td>\n",
              "      <td>Overall Rating for Product (out of 5)</td>\n",
              "      <td>Rating (stars)</td>\n",
              "      <td>Name for Who Found the Data</td>\n",
              "    </tr>\n",
              "    <tr>\n",
              "      <th>1</th>\n",
              "      <td>Clothing</td>\n",
              "      <td>Product #1 - Good</td>\n",
              "      <td>'This top is so pretty, absolutely LOVE the...</td>\n",
              "      <td>1</td>\n",
              "      <td>0.83</td>\n",
              "      <td>12,392</td>\n",
              "      <td>https://www.amazon.com/Shirts-Women-Summer-Sle...</td>\n",
              "      <td>4.4</td>\n",
              "      <td>5</td>\n",
              "      <td>Hasong Cho</td>\n",
              "    </tr>\n",
              "    <tr>\n",
              "      <th>2</th>\n",
              "      <td>Clothing</td>\n",
              "      <td>Product #1 - Bad</td>\n",
              "      <td>Fabric quality is horrendous and varies from s...</td>\n",
              "      <td>-1</td>\n",
              "      <td>0.7</td>\n",
              "      <td>12,392</td>\n",
              "      <td>https://www.amazon.com/Shirts-Women-Summer-Sle...</td>\n",
              "      <td>4.4</td>\n",
              "      <td>1</td>\n",
              "      <td>Ayesha Saeed</td>\n",
              "    </tr>\n",
              "    <tr>\n",
              "      <th>3</th>\n",
              "      <td>Clothing</td>\n",
              "      <td>Product #2 - Good</td>\n",
              "      <td>My favorite shirts I’ve been searching for mor...</td>\n",
              "      <td>1</td>\n",
              "      <td>0.82</td>\n",
              "      <td>10033</td>\n",
              "      <td>https://www.amazon.com/Polo-Ralph-Lauren-Class...</td>\n",
              "      <td>4.6</td>\n",
              "      <td>5</td>\n",
              "      <td>Hasong Cho</td>\n",
              "    </tr>\n",
              "    <tr>\n",
              "      <th>4</th>\n",
              "      <td>Clothing</td>\n",
              "      <td>Product #2 - Bad</td>\n",
              "      <td>The fit was ok...but the collars are terrible....</td>\n",
              "      <td>-1</td>\n",
              "      <td>0.65</td>\n",
              "      <td>10033</td>\n",
              "      <td>https://www.amazon.com/Polo-Ralph-Lauren-Class...</td>\n",
              "      <td>4.6</td>\n",
              "      <td>1</td>\n",
              "      <td>Hasong Cho</td>\n",
              "    </tr>\n",
              "    <tr>\n",
              "      <th>5</th>\n",
              "      <td>Clothing</td>\n",
              "      <td>Product #3 - Good</td>\n",
              "      <td>very cute, and very comfortable, was very plea...</td>\n",
              "      <td>1</td>\n",
              "      <td>0.9</td>\n",
              "      <td>469</td>\n",
              "      <td>https://www.amazon.com/Summer-Tshirt-Casual-Tr...</td>\n",
              "      <td>3.2</td>\n",
              "      <td>5</td>\n",
              "      <td>Hasong Cho</td>\n",
              "    </tr>\n",
              "    <tr>\n",
              "      <th>6</th>\n",
              "      <td>Clothing</td>\n",
              "      <td>Product #3 - Bad</td>\n",
              "      <td>The delivery went well, but the size is way of...</td>\n",
              "      <td>-1</td>\n",
              "      <td>0.53</td>\n",
              "      <td>469</td>\n",
              "      <td>https://www.amazon.com/Summer-Tshirt-Casual-Tr...</td>\n",
              "      <td>3.2</td>\n",
              "      <td>3</td>\n",
              "      <td>Hasong Cho</td>\n",
              "    </tr>\n",
              "    <tr>\n",
              "      <th>7</th>\n",
              "      <td>Shoes</td>\n",
              "      <td>Product #4- Good</td>\n",
              "      <td>Loved the style and the comfort.', 'I would bu...</td>\n",
              "      <td>1</td>\n",
              "      <td>1.04</td>\n",
              "      <td>40,359</td>\n",
              "      <td>https://www.amazon.com/Hey-Dude-Womens-Loafer-...</td>\n",
              "      <td>4.7</td>\n",
              "      <td>5</td>\n",
              "      <td>Julie Zhang</td>\n",
              "    </tr>\n",
              "    <tr>\n",
              "      <th>8</th>\n",
              "      <td>Shoes</td>\n",
              "      <td>Product #4- Bad</td>\n",
              "      <td>They are nothing like what is pictured.', 'col...</td>\n",
              "      <td>-1</td>\n",
              "      <td>0.8</td>\n",
              "      <td>40,359</td>\n",
              "      <td>https://www.amazon.com/Hey-Dude-Womens-Loafer-...</td>\n",
              "      <td>4.7</td>\n",
              "      <td>1</td>\n",
              "      <td>Julie Zhang</td>\n",
              "    </tr>\n",
              "    <tr>\n",
              "      <th>9</th>\n",
              "      <td>Shoes</td>\n",
              "      <td>Product #5- Good</td>\n",
              "      <td>No tired feet at the end of the day.', 'New fa...</td>\n",
              "      <td>1</td>\n",
              "      <td>0.9</td>\n",
              "      <td>9,804</td>\n",
              "      <td>https://www.amazon.com/Running-Lightweight-Cus...</td>\n",
              "      <td>4.3</td>\n",
              "      <td>5</td>\n",
              "      <td>Julie Zhang</td>\n",
              "    </tr>\n",
              "    <tr>\n",
              "      <th>10</th>\n",
              "      <td>Shoes</td>\n",
              "      <td>Product #5- Bad</td>\n",
              "      <td>bottom of the shoe is already tearing away.', ...</td>\n",
              "      <td>-1</td>\n",
              "      <td>0.4</td>\n",
              "      <td>9,804</td>\n",
              "      <td>https://www.amazon.com/Running-Lightweight-Cus...</td>\n",
              "      <td>4.3</td>\n",
              "      <td>2</td>\n",
              "      <td>Julie Zhang</td>\n",
              "    </tr>\n",
              "    <tr>\n",
              "      <th>11</th>\n",
              "      <td>Shoes</td>\n",
              "      <td>Product #6 - Good</td>\n",
              "      <td>They are so comfortable.', 'I’ve received so m...</td>\n",
              "      <td>1</td>\n",
              "      <td>0.9</td>\n",
              "      <td>29,430</td>\n",
              "      <td>https://www.amazon.com/dp/B0878SLRFN/ref=sspa_...</td>\n",
              "      <td>4.3</td>\n",
              "      <td>5</td>\n",
              "      <td>Julie Zhang</td>\n",
              "    </tr>\n",
              "    <tr>\n",
              "      <th>12</th>\n",
              "      <td>Shoes</td>\n",
              "      <td>Product #6- Bad</td>\n",
              "      <td>Product very loose in the shoebox. ', 'Just so...</td>\n",
              "      <td>-1</td>\n",
              "      <td>0.65</td>\n",
              "      <td>29,430</td>\n",
              "      <td>https://www.amazon.com/dp/B0878SLRFN/ref=sspa_...</td>\n",
              "      <td>4.3</td>\n",
              "      <td>1</td>\n",
              "      <td>Julie Zhang</td>\n",
              "    </tr>\n",
              "    <tr>\n",
              "      <th>13</th>\n",
              "      <td>Electronics</td>\n",
              "      <td>Product #7- Good</td>\n",
              "      <td>I'm soooooo happy with this amazing device!!!!...</td>\n",
              "      <td>1</td>\n",
              "      <td>0.9</td>\n",
              "      <td>93,949</td>\n",
              "      <td>https://www.amazon.com/Ring-Video-Doorbell-Sat...</td>\n",
              "      <td>4.7</td>\n",
              "      <td>5</td>\n",
              "      <td>Ayesha Saeed</td>\n",
              "    </tr>\n",
              "    <tr>\n",
              "      <th>14</th>\n",
              "      <td>Electronics</td>\n",
              "      <td>Product #7- Bad</td>\n",
              "      <td>Don't waste your money this product is awful. ...</td>\n",
              "      <td>-1</td>\n",
              "      <td>0.66</td>\n",
              "      <td>93,949</td>\n",
              "      <td>https://www.amazon.com/Ring-Video-Doorbell-Sat...</td>\n",
              "      <td>4.7</td>\n",
              "      <td>1</td>\n",
              "      <td>Ayesha Saeed</td>\n",
              "    </tr>\n",
              "    <tr>\n",
              "      <th>15</th>\n",
              "      <td>Electronics</td>\n",
              "      <td>Product #8- Good</td>\n",
              "      <td>This USB C Hub comes with a great quality for ...</td>\n",
              "      <td>1</td>\n",
              "      <td>0.9</td>\n",
              "      <td>32448</td>\n",
              "      <td>https://www.amazon.com/Hiearcool-MacBook-Multi...</td>\n",
              "      <td>4.6</td>\n",
              "      <td>5</td>\n",
              "      <td>Ayesha Saeed</td>\n",
              "    </tr>\n",
              "    <tr>\n",
              "      <th>16</th>\n",
              "      <td>Electronics</td>\n",
              "      <td>Product #8- Bad</td>\n",
              "      <td>I was truly disappointed and embarrassed. I wi...</td>\n",
              "      <td>-1</td>\n",
              "      <td>0.85</td>\n",
              "      <td>32,448</td>\n",
              "      <td>https://www.amazon.com/Hiearcool-MacBook-Multi...</td>\n",
              "      <td>4.6</td>\n",
              "      <td>1</td>\n",
              "      <td>Ayesha Saeed</td>\n",
              "    </tr>\n",
              "    <tr>\n",
              "      <th>17</th>\n",
              "      <td>Electronics</td>\n",
              "      <td>Product #9- Good</td>\n",
              "      <td>This mouse is very nice! I am a nurse in a lon...</td>\n",
              "      <td>1</td>\n",
              "      <td>0.87</td>\n",
              "      <td>37859</td>\n",
              "      <td>https://www.amazon.com/Wireless-Uiosmuph-Recha...</td>\n",
              "      <td>4.4</td>\n",
              "      <td>5</td>\n",
              "      <td>Ayesha Saeed</td>\n",
              "    </tr>\n",
              "    <tr>\n",
              "      <th>18</th>\n",
              "      <td>Electronics</td>\n",
              "      <td>Product #9- Bad</td>\n",
              "      <td>It is exactly what it said it was, but I was v...</td>\n",
              "      <td>-1</td>\n",
              "      <td>0.7</td>\n",
              "      <td>37859</td>\n",
              "      <td>https://www.amazon.com/Wireless-Uiosmuph-Recha...</td>\n",
              "      <td>4.4</td>\n",
              "      <td>2</td>\n",
              "      <td>Ayesha Saeed</td>\n",
              "    </tr>\n",
              "  </tbody>\n",
              "</table>\n",
              "</div>\n",
              "      <button class=\"colab-df-convert\" onclick=\"convertToInteractive('df-fb89502b-681e-4192-8c85-9fcddeb76ce0')\"\n",
              "              title=\"Convert this dataframe to an interactive table.\"\n",
              "              style=\"display:none;\">\n",
              "        \n",
              "  <svg xmlns=\"http://www.w3.org/2000/svg\" height=\"24px\"viewBox=\"0 0 24 24\"\n",
              "       width=\"24px\">\n",
              "    <path d=\"M0 0h24v24H0V0z\" fill=\"none\"/>\n",
              "    <path d=\"M18.56 5.44l.94 2.06.94-2.06 2.06-.94-2.06-.94-.94-2.06-.94 2.06-2.06.94zm-11 1L8.5 8.5l.94-2.06 2.06-.94-2.06-.94L8.5 2.5l-.94 2.06-2.06.94zm10 10l.94 2.06.94-2.06 2.06-.94-2.06-.94-.94-2.06-.94 2.06-2.06.94z\"/><path d=\"M17.41 7.96l-1.37-1.37c-.4-.4-.92-.59-1.43-.59-.52 0-1.04.2-1.43.59L10.3 9.45l-7.72 7.72c-.78.78-.78 2.05 0 2.83L4 21.41c.39.39.9.59 1.41.59.51 0 1.02-.2 1.41-.59l7.78-7.78 2.81-2.81c.8-.78.8-2.07 0-2.86zM5.41 20L4 18.59l7.72-7.72 1.47 1.35L5.41 20z\"/>\n",
              "  </svg>\n",
              "      </button>\n",
              "      \n",
              "  <style>\n",
              "    .colab-df-container {\n",
              "      display:flex;\n",
              "      flex-wrap:wrap;\n",
              "      gap: 12px;\n",
              "    }\n",
              "\n",
              "    .colab-df-convert {\n",
              "      background-color: #E8F0FE;\n",
              "      border: none;\n",
              "      border-radius: 50%;\n",
              "      cursor: pointer;\n",
              "      display: none;\n",
              "      fill: #1967D2;\n",
              "      height: 32px;\n",
              "      padding: 0 0 0 0;\n",
              "      width: 32px;\n",
              "    }\n",
              "\n",
              "    .colab-df-convert:hover {\n",
              "      background-color: #E2EBFA;\n",
              "      box-shadow: 0px 1px 2px rgba(60, 64, 67, 0.3), 0px 1px 3px 1px rgba(60, 64, 67, 0.15);\n",
              "      fill: #174EA6;\n",
              "    }\n",
              "\n",
              "    [theme=dark] .colab-df-convert {\n",
              "      background-color: #3B4455;\n",
              "      fill: #D2E3FC;\n",
              "    }\n",
              "\n",
              "    [theme=dark] .colab-df-convert:hover {\n",
              "      background-color: #434B5C;\n",
              "      box-shadow: 0px 1px 3px 1px rgba(0, 0, 0, 0.15);\n",
              "      filter: drop-shadow(0px 1px 2px rgba(0, 0, 0, 0.3));\n",
              "      fill: #FFFFFF;\n",
              "    }\n",
              "  </style>\n",
              "\n",
              "      <script>\n",
              "        const buttonEl =\n",
              "          document.querySelector('#df-fb89502b-681e-4192-8c85-9fcddeb76ce0 button.colab-df-convert');\n",
              "        buttonEl.style.display =\n",
              "          google.colab.kernel.accessAllowed ? 'block' : 'none';\n",
              "\n",
              "        async function convertToInteractive(key) {\n",
              "          const element = document.querySelector('#df-fb89502b-681e-4192-8c85-9fcddeb76ce0');\n",
              "          const dataTable =\n",
              "            await google.colab.kernel.invokeFunction('convertToInteractive',\n",
              "                                                     [key], {});\n",
              "          if (!dataTable) return;\n",
              "\n",
              "          const docLinkHtml = 'Like what you see? Visit the ' +\n",
              "            '<a target=\"_blank\" href=https://colab.research.google.com/notebooks/data_table.ipynb>data table notebook</a>'\n",
              "            + ' to learn more about interactive tables.';\n",
              "          element.innerHTML = '';\n",
              "          dataTable['output_type'] = 'display_data';\n",
              "          await google.colab.output.renderOutput(dataTable, element);\n",
              "          const docLink = document.createElement('div');\n",
              "          docLink.innerHTML = docLinkHtml;\n",
              "          element.appendChild(docLink);\n",
              "        }\n",
              "      </script>\n",
              "    </div>\n",
              "  </div>\n",
              "  "
            ]
          },
          "metadata": {},
          "execution_count": 46
        }
      ],
      "source": [
        "from google.colab import auth\n",
        "auth.authenticate_user()\n",
        "\n",
        "import gspread\n",
        "from google.auth import default\n",
        "creds, _ = default()\n",
        "\n",
        "gc = gspread.authorize(creds)\n",
        "\n",
        "worksheet = gc.open('QTM 250 HW 4').sheet1\n",
        "\n",
        "# get_all_values gives a list of rows.\n",
        "rows = worksheet.get_all_values()\n",
        "print(rows)\n",
        "\n",
        "# Convert to a DataFrame and render.\n",
        "import pandas as pd\n",
        "pd.DataFrame.from_records(rows)"
      ]
    },
    {
      "cell_type": "markdown",
      "source": [
        "# Github Repository Link\n",
        "\n",
        "[GitHub Repository](https://github.com/ayeshasaeed97/qtm-250-hw-4-group-5)"
      ],
      "metadata": {
        "id": "-HTtPo21-H5W"
      }
    },
    {
      "cell_type": "markdown",
      "source": [
        "Good review: 4 & 5 out of 5\n",
        "\n",
        "Bad review: 1,2,3 out of 5\n",
        "\n",
        "3 is medium, but normally, people are lenient about giving good rating to products. We will consider that 3/5 is a \"bad\" review"
      ],
      "metadata": {
        "id": "YYlfQ3PEfuRJ"
      }
    },
    {
      "cell_type": "markdown",
      "source": [
        "We used words with obvious positive and negative connotations to see how the API would rate them. As we can see, the API recognizes the words as we would expect them. This allows us to establish a benchmark for the API in future usage."
      ],
      "metadata": {
        "id": "8f_cbWeb8I8x"
      }
    },
    {
      "cell_type": "code",
      "source": [
        "lservice = build('language', 'v1beta1', developerKey=APIKEY)\n",
        "quotes = [\n",
        "  'Good',\n",
        "  'Bad',\n",
        "  'Great',\n",
        "  'Awful',\n",
        "  'Amazing',\n",
        "  'Horrible',\n",
        "  'The'\n",
        "]\n",
        "for quote in quotes:\n",
        "  response = lservice.documents().analyzeSentiment(\n",
        "    body={\n",
        "      'document': {\n",
        "         'type': 'PLAIN_TEXT',\n",
        "         'content': quote\n",
        "      }\n",
        "    }).execute()\n",
        "  polarity = response['documentSentiment']['polarity']\n",
        "  magnitude = response['documentSentiment']['magnitude']\n",
        "  print('POLARITY=%s MAGNITUDE=%s for %s' % (polarity, magnitude, quote))"
      ],
      "metadata": {
        "colab": {
          "base_uri": "https://localhost:8080/"
        },
        "id": "h0AbyqqGMDrf",
        "outputId": "3a890039-285d-4445-c85c-89c08a139dc0"
      },
      "execution_count": 47,
      "outputs": [
        {
          "output_type": "stream",
          "name": "stdout",
          "text": [
            "POLARITY=1 MAGNITUDE=0.8 for Good\n",
            "POLARITY=1 MAGNITUDE=0.3 for Bad\n",
            "POLARITY=1 MAGNITUDE=0.9 for Great\n",
            "POLARITY=-1 MAGNITUDE=0.8 for Awful\n",
            "POLARITY=1 MAGNITUDE=0.9 for Amazing\n",
            "POLARITY=1 MAGNITUDE=0.3 for Horrible\n",
            "POLARITY=1 MAGNITUDE=0.2 for The\n"
          ]
        }
      ]
    },
    {
      "cell_type": "markdown",
      "source": [
        "#Product 1\n",
        "\n",
        "https://raw.githubusercontent.com/hasongcho/QTM250-GroupProj/main/Screen%20Shot%202022-04-20%20at%203.19.54%20PM.png\n",
        "\n",
        "\n",
        "Product Type: Clothing\n",
        "\n",
        "Total Review Number: 12,392 reviews\n",
        "\n",
        "Overall Rating: 4.4/5\n",
        "\n"
      ],
      "metadata": {
        "id": "iICa82FGZ854"
      }
    },
    {
      "cell_type": "markdown",
      "source": [
        "## Good Review\n",
        "\n",
        "Rating: 5/5"
      ],
      "metadata": {
        "id": "c5WShprWhW2G"
      }
    },
    {
      "cell_type": "code",
      "source": [
        "wlservice = build('language', 'v1beta1', developerKey=APIKEY)\n",
        "quotes = [\n",
        "      'This top is so pretty, absolutely LOVE the petal sleeves!', 'This top is like a t-shirt but with fancier sleeves, which makes it easy to dress up but you still get the comfort of a tee.', 'The material is very soft, fairly lightweight & loose fit.','I’m a big fan of v-neck shirts, I think they are more feminine.', 'The v-neckline combined with the petal sleeves makes this top very flattering & pretty.','True to size & color is accurate to stock photo.', 'Overall, I am very happy with this purchase.', 'Great product, good condition & fast shipping!', 'If you found my review helpful, I would appreciate you clicking “helpful” - thanks!!!']\n",
        "for quote in quotes:\n",
        "  response = lservice.documents().analyzeSentiment(\n",
        "    body={\n",
        "      'document': {\n",
        "         'type': 'PLAIN_TEXT',\n",
        "         'content': quote\n",
        "      }\n",
        "    }).execute()\n",
        "  polarity = response['documentSentiment']['polarity']\n",
        "  magnitude = response['documentSentiment']['magnitude']\n",
        "  print('POLARITY=%s MAGNITUDE=%s for %s' % (polarity, magnitude, quote))"
      ],
      "metadata": {
        "colab": {
          "base_uri": "https://localhost:8080/"
        },
        "id": "UdMi-HXPUip7",
        "outputId": "3dd685f7-746e-4707-9ddf-bdb07726b81b"
      },
      "execution_count": null,
      "outputs": [
        {
          "output_type": "stream",
          "name": "stdout",
          "text": [
            "POLARITY=1 MAGNITUDE=0.9 for This top is so pretty, absolutely LOVE the petal sleeves!\n",
            "POLARITY=1 MAGNITUDE=0.9 for This top is like a t-shirt but with fancier sleeves, which makes it easy to dress up but you still get the comfort of a tee.\n",
            "POLARITY=1 MAGNITUDE=0.8 for The material is very soft, fairly lightweight & loose fit.\n",
            "POLARITY=1 MAGNITUDE=0.9 for I’m a big fan of v-neck shirts, I think they are more feminine.\n",
            "POLARITY=1 MAGNITUDE=0.9 for The v-neckline combined with the petal sleeves makes this top very flattering & pretty.\n",
            "POLARITY=1 MAGNITUDE=0.9 for True to size & color is accurate to stock photo.\n",
            "POLARITY=1 MAGNITUDE=0.9 for Overall, I am very happy with this purchase.\n",
            "POLARITY=1 MAGNITUDE=0.9 for Great product, good condition & fast shipping!\n",
            "POLARITY=1 MAGNITUDE=0.4 for If you found my review helpful, I would appreciate you clicking “helpful” - thanks!!!\n"
          ]
        }
      ]
    },
    {
      "cell_type": "markdown",
      "source": [
        "##Negative Review\n",
        "\n",
        "Rating 1/5"
      ],
      "metadata": {
        "id": "SvizIWQkhZq8"
      }
    },
    {
      "cell_type": "code",
      "source": [
        "wlservice = build('language', 'v1beta1', developerKey=APIKEY)\n",
        "quotes = [\n",
        "      'Fabric quality is horrendous and varies from shirt to shirt.', 'I had to reorder due to the first top being frayed and in questionable condition, but the second top that arrived was a completely different fabric that was too shiny to be a casual black T-shirt type of material.', 'In a word, tacky.' ,'The bag it was enclosed in looked like it was reused multiple times from past returns.', 'Such a hassle to order and return items that do not match the photos or vendor’s description.','The style would be cute to wear if the manufacturer or vendor cared about quality and consistency.']\n",
        "for quote in quotes:\n",
        "  response = lservice.documents().analyzeSentiment(\n",
        "    body={\n",
        "      'document': {\n",
        "         'type': 'PLAIN_TEXT',\n",
        "         'content': quote\n",
        "      }\n",
        "    }).execute()\n",
        "  polarity = response['documentSentiment']['polarity']\n",
        "  magnitude = response['documentSentiment']['magnitude']\n",
        "  print('POLARITY=%s MAGNITUDE=%s for %s' % (polarity, magnitude, quote))"
      ],
      "metadata": {
        "id": "umU5A9W0YRRd",
        "colab": {
          "base_uri": "https://localhost:8080/"
        },
        "outputId": "52f827e5-78a7-4877-c151-f56a002ef458"
      },
      "execution_count": null,
      "outputs": [
        {
          "output_type": "stream",
          "name": "stdout",
          "text": [
            "POLARITY=-1 MAGNITUDE=0.8 for Fabric quality is horrendous and varies from shirt to shirt.\n",
            "POLARITY=-1 MAGNITUDE=0.6 for I had to reorder due to the first top being frayed and in questionable condition, but the second top that arrived was a completely different fabric that was too shiny to be a casual black T-shirt type of material.\n",
            "POLARITY=-1 MAGNITUDE=0.9 for In a word, tacky.\n",
            "POLARITY=-1 MAGNITUDE=0.7 for The bag it was enclosed in looked like it was reused multiple times from past returns.\n",
            "POLARITY=-1 MAGNITUDE=0.8 for Such a hassle to order and return items that do not match the photos or vendor’s description.\n",
            "POLARITY=-1 MAGNITUDE=0.4 for The style would be cute to wear if the manufacturer or vendor cared about quality and consistency.\n"
          ]
        }
      ]
    },
    {
      "cell_type": "markdown",
      "source": [
        "# Product #2\n",
        "\n",
        "https://raw.githubusercontent.com/hasongcho/QTM250-GroupProj/main/Clothing%232.png\n",
        "\n",
        "Product Type: Clothing\n",
        "\n",
        "Total Review Number: 10,033 reviews\n",
        "\n",
        "Overall Rating: 4.6/5"
      ],
      "metadata": {
        "id": "5Nh0ITNCackH"
      }
    },
    {
      "cell_type": "markdown",
      "source": [
        "##Good Review \n",
        "\n",
        "Rating: 5/5\n"
      ],
      "metadata": {
        "id": "PaCSy1fXd78a"
      }
    },
    {
      "cell_type": "code",
      "source": [
        "wlservice = build('language', 'v1beta1', developerKey=APIKEY)\n",
        "quotes = [\n",
        "      'My favorite shirts I’ve been searching for more polo shirts, but a variety pack and my criteria was basically a light blue, darker shade of blue, and another black shirt.', 'To find this pack felt awesome haha I’m very happy to have found these!', 'You’ll never regret buying these t shirts they last forever, keep its shape very nice, over the course of time becomes significantly more comfortable, and somehow these t shirts just look sharp.', 'I can’t really describe it, but Calvin Klein also does a good job doing this.', 'Not quite sure how they do it, but I’ll never complain about that!']\n",
        "for quote in quotes:\n",
        "  response = lservice.documents().analyzeSentiment(\n",
        "    body={\n",
        "      'document': {\n",
        "         'type': 'PLAIN_TEXT',\n",
        "         'content': quote\n",
        "      }\n",
        "    }).execute()\n",
        "  polarity = response['documentSentiment']['polarity']\n",
        "  magnitude = response['documentSentiment']['magnitude']\n",
        "  print('POLARITY=%s MAGNITUDE=%s for %s' % (polarity, magnitude, quote))"
      ],
      "metadata": {
        "id": "w2-WMtVcdYrH"
      },
      "execution_count": null,
      "outputs": []
    },
    {
      "cell_type": "markdown",
      "source": [
        "##Negative Review\n",
        "\n",
        "Rating 1/5\n"
      ],
      "metadata": {
        "id": "taFPfunreA3X"
      }
    },
    {
      "cell_type": "code",
      "source": [
        "wlservice = build('language', 'v1beta1', developerKey=APIKEY)\n",
        "quotes = [\n",
        "      'The fit was ok...but the collars are terrible.', 'They are bunched up and look like a $2 shirt from Walmart.']\n",
        "for quote in quotes:\n",
        "  response = lservice.documents().analyzeSentiment(\n",
        "    body={\n",
        "      'document': {\n",
        "         'type': 'PLAIN_TEXT',\n",
        "         'content': quote\n",
        "      }\n",
        "    }).execute()\n",
        "  polarity = response['documentSentiment']['polarity']\n",
        "  magnitude = response['documentSentiment']['magnitude']\n",
        "  print('POLARITY=%s MAGNITUDE=%s for %s' % (polarity, magnitude, quote))"
      ],
      "metadata": {
        "colab": {
          "base_uri": "https://localhost:8080/"
        },
        "id": "hYPTF-4Gd2BQ",
        "outputId": "f453b2c8-fa34-4762-e793-ef33fdd2f171"
      },
      "execution_count": null,
      "outputs": [
        {
          "output_type": "stream",
          "name": "stdout",
          "text": [
            "POLARITY=-1 MAGNITUDE=0.6 for The fit was ok...but the collars are terrible.\n",
            "POLARITY=-1 MAGNITUDE=0.7 for They are bunched up and look like a $2 shirt from Walmart.\n"
          ]
        }
      ]
    },
    {
      "cell_type": "markdown",
      "source": [
        "# Product #3\n",
        "\n",
        "https://raw.githubusercontent.com/hasongcho/QTM250-GroupProj/main/Clothing%20%233.png\n",
        "\n",
        "Product Type: Clothing\n",
        "\n",
        "Total Review Number: 469 ratings\n",
        "\n",
        "Overall Rating: 3.2/5\n"
      ],
      "metadata": {
        "id": "Ux0jm4TbeWFE"
      }
    },
    {
      "cell_type": "markdown",
      "source": [
        "##Good Review\n",
        "\n",
        "Rating: 5/5"
      ],
      "metadata": {
        "id": "2PAUhOdLfpCp"
      }
    },
    {
      "cell_type": "code",
      "source": [
        "wlservice = build('language', 'v1beta1', developerKey=APIKEY)\n",
        "quotes = [\n",
        "      'very cute, and very comfortable, was very pleased']\n",
        "for quote in quotes:\n",
        "  response = lservice.documents().analyzeSentiment(\n",
        "    body={\n",
        "      'document': {\n",
        "         'type': 'PLAIN_TEXT',\n",
        "         'content': quote\n",
        "      }\n",
        "    }).execute()\n",
        "  polarity = response['documentSentiment']['polarity']\n",
        "  magnitude = response['documentSentiment']['magnitude']\n",
        "  print('POLARITY=%s MAGNITUDE=%s for %s' % (polarity, magnitude, quote))"
      ],
      "metadata": {
        "colab": {
          "base_uri": "https://localhost:8080/"
        },
        "id": "HcfW2DuEf7I7",
        "outputId": "475f8aee-c6d7-4d31-ff1b-5ef10b280bad"
      },
      "execution_count": null,
      "outputs": [
        {
          "output_type": "stream",
          "name": "stdout",
          "text": [
            "POLARITY=1 MAGNITUDE=0.9 for very cute, and very comfortable, was very pleased\n"
          ]
        }
      ]
    },
    {
      "cell_type": "markdown",
      "source": [
        "##Negative Review\n",
        "\n",
        "Rating 3/5\n"
      ],
      "metadata": {
        "id": "qK58XDQugQaa"
      }
    },
    {
      "cell_type": "code",
      "source": [
        "wlservice = build('language', 'v1beta1', developerKey=APIKEY)\n",
        "quotes = [\n",
        "      'The delivery went well, but the size is way off.', 'I usually wear and XL, so I ordered that size.', 'Well it was very tight.', 'I would of needed to order two more sizes for it to fit me.', 'I also did not like the feel of the fabric.', 'I would not recommend this product.'\n",
        "]\n",
        "for quote in quotes:\n",
        "  response = lservice.documents().analyzeSentiment(\n",
        "    body={\n",
        "      'document': {\n",
        "         'type': 'PLAIN_TEXT',\n",
        "         'content': quote\n",
        "      }\n",
        "    }).execute()\n",
        "  polarity = response['documentSentiment']['polarity']\n",
        "  magnitude = response['documentSentiment']['magnitude']\n",
        "  print('POLARITY=%s MAGNITUDE=%s for %s' % (polarity, magnitude, quote))"
      ],
      "metadata": {
        "colab": {
          "base_uri": "https://localhost:8080/"
        },
        "id": "zlnBZ3DkgNvj",
        "outputId": "fd4322f4-7ea3-4297-af38-80f55d167933"
      },
      "execution_count": null,
      "outputs": [
        {
          "output_type": "stream",
          "name": "stdout",
          "text": [
            "POLARITY=-1 MAGNITUDE=0.6 for The delivery went well, but the size is way off.\n",
            "POLARITY=1 MAGNITUDE=0.2 for I usually wear and XL, so I ordered that size.\n",
            "POLARITY=-1 MAGNITUDE=0.5 for Well it was very tight.\n",
            "POLARITY=-1 MAGNITUDE=0.2 for I would of needed to order two more sizes for it to fit me.\n",
            "POLARITY=-1 MAGNITUDE=0.9 for I also did not like the feel of the fabric.\n",
            "POLARITY=-1 MAGNITUDE=0.8 for I would not recommend this product.\n"
          ]
        }
      ]
    },
    {
      "cell_type": "markdown",
      "source": [
        "##Product  #4\n",
        "https://github.com/juliezhang1/shoes/blob/b5886185cf8cc1d5f03fd6597d834840a20ce995/Screen%20Shot%202022-04-20%20at%208.47.33%20PM.png\n",
        "\n",
        "\n",
        "Product Type: Shoes\n",
        "\n",
        "Total Review Number: 40,359 ratings\n",
        "\n",
        "Overall Rating: 4.7/5"
      ],
      "metadata": {
        "id": "8AxVjdjWdgB-"
      }
    },
    {
      "cell_type": "markdown",
      "source": [
        "##Positive Review\n",
        "\n",
        "Rating: 5/5"
      ],
      "metadata": {
        "id": "UKPQwfNPePpm"
      }
    },
    {
      "cell_type": "code",
      "source": [
        "wlservice = build('language', 'v1beta1', developerKey=APIKEY)\n",
        "quotes = [\n",
        "      'Loved the style and the comfort.', 'I would buy again.', 'The sole is fabulous.', 'They fit like a glove.', 'Superior comfort.', 'Love these! Glitter is beautiful.', 'These are so cute.']\n",
        "for quote in quotes:\n",
        "  response = lservice.documents().analyzeSentiment(\n",
        "    body={\n",
        "      'document': {\n",
        "         'type': 'PLAIN_TEXT',\n",
        "         'content': quote\n",
        "      }\n",
        "    }).execute()\n",
        "  polarity = response['documentSentiment']['polarity']\n",
        "  magnitude = response['documentSentiment']['magnitude']\n",
        "  print('POLARITY=%s MAGNITUDE=%s for %s' % (polarity, magnitude, quote))"
      ],
      "metadata": {
        "id": "IQ6fVcRPedja"
      },
      "execution_count": null,
      "outputs": []
    },
    {
      "cell_type": "markdown",
      "source": [
        "##Negative review\n",
        "Rating: 1/5"
      ],
      "metadata": {
        "id": "KLHospjjfx9j"
      }
    },
    {
      "cell_type": "code",
      "source": [
        "wlservice = build('language', 'v1beta1', developerKey=APIKEY)\n",
        "quotes = [\n",
        "      'They are nothing like what is pictured.', 'color & style are way off so I went to return them.', 'fit was horrible.'\n",
        "]\n",
        "for quote in quotes:\n",
        "  response = lservice.documents().analyzeSentiment(\n",
        "    body={\n",
        "      'document': {\n",
        "         'type': 'PLAIN_TEXT',\n",
        "         'content': quote\n",
        "      }\n",
        "    }).execute()\n",
        "  polarity = response['documentSentiment']['polarity']\n",
        "  magnitude = response['documentSentiment']['magnitude']\n",
        "  print('POLARITY=%s MAGNITUDE=%s for %s' % (polarity, magnitude, quote))"
      ],
      "metadata": {
        "id": "znp7PX8ZgDDB"
      },
      "execution_count": null,
      "outputs": []
    },
    {
      "cell_type": "markdown",
      "source": [
        "##Product #5\n",
        "\n",
        "https://github.com/juliezhang1/shoes/blob/83f2bffb545b53f765c1c82668d19e25bc27f760/Screen%20Shot%202022-04-20%20at%208.52.59%20PM.png\n",
        "\n",
        "Product Type: Shoes\n",
        "\n",
        "Total Review Number: 9,804 ratings\n",
        "\n",
        "Overall Rating: 4.3/5"
      ],
      "metadata": {
        "id": "EjWSrYdrgdbQ"
      }
    },
    {
      "cell_type": "markdown",
      "source": [
        "##Positive Reviews \n",
        "Rating: 5/5"
      ],
      "metadata": {
        "id": "XUJn36X8g38s"
      }
    },
    {
      "cell_type": "code",
      "source": [
        "wlservice = build('language', 'v1beta1', developerKey=APIKEY)\n",
        "quotes = [\n",
        "      'No tired feet at the end of the day.', 'New favorite shoes.', 'Will buy more.']\n",
        "for quote in quotes:\n",
        "  response = lservice.documents().analyzeSentiment(\n",
        "    body={\n",
        "      'document': {\n",
        "         'type': 'PLAIN_TEXT',\n",
        "         'content': quote\n",
        "      }\n",
        "    }).execute()\n",
        "  polarity = response['documentSentiment']['polarity']\n",
        "  magnitude = response['documentSentiment']['magnitude']\n",
        "  print('POLARITY=%s MAGNITUDE=%s for %s' % (polarity, magnitude, quote))"
      ],
      "metadata": {
        "id": "R2QsRBTihkWH"
      },
      "execution_count": null,
      "outputs": []
    },
    {
      "cell_type": "markdown",
      "source": [
        "##Negative Reviews \n",
        "Rating: 2/5"
      ],
      "metadata": {
        "id": "SFuo5-fqhEuV"
      }
    },
    {
      "cell_type": "code",
      "source": [
        "wlservice = build('language', 'v1beta1', developerKey=APIKEY)\n",
        "quotes = [\n",
        "      'bottom of the shoe is already tearing away.', 'Less than 3 months of wear.']\n",
        "for quote in quotes:\n",
        "  response = lservice.documents().analyzeSentiment(\n",
        "    body={\n",
        "      'document': {\n",
        "         'type': 'PLAIN_TEXT',\n",
        "         'content': quote\n",
        "      }\n",
        "    }).execute()\n",
        "  polarity = response['documentSentiment']['polarity']\n",
        "  magnitude = response['documentSentiment']['magnitude']\n",
        "  print('POLARITY=%s MAGNITUDE=%s for %s' % (polarity, magnitude, quote))"
      ],
      "metadata": {
        "id": "eYHEqEWxh1Nf"
      },
      "execution_count": null,
      "outputs": []
    },
    {
      "cell_type": "markdown",
      "source": [
        "##Product #6\n",
        "\n",
        "https://github.com/juliezhang1/shoes/blob/7a7d69dc9175a9e3f27fda8e3a8b603648edc111/Screen%20Shot%202022-04-20%20at%208.53.06%20PM.png\n",
        "\n",
        "Product Type: Shoes\n",
        "\n",
        "Total Review Number: 29,430 ratings\n",
        "\n",
        "Overall Rating: 4.3/5"
      ],
      "metadata": {
        "id": "6vGEUS6cgtQv"
      }
    },
    {
      "cell_type": "markdown",
      "source": [
        "##Positive Reviews\n",
        "Rating: 5/5"
      ],
      "metadata": {
        "id": "20AMEedShOMS"
      }
    },
    {
      "cell_type": "code",
      "source": [
        "wlservice = build('language', 'v1beta1', developerKey=APIKEY)\n",
        "quotes = [\n",
        "      'They are so comfortable.', 'I’ve received so many compliments.']\n",
        "for quote in quotes:\n",
        "  response = lservice.documents().analyzeSentiment(\n",
        "    body={\n",
        "      'document': {\n",
        "         'type': 'PLAIN_TEXT',\n",
        "         'content': quote\n",
        "      }\n",
        "    }).execute()\n",
        "  polarity = response['documentSentiment']['polarity']\n",
        "  magnitude = response['documentSentiment']['magnitude']\n",
        "  print('POLARITY=%s MAGNITUDE=%s for %s' % (polarity, magnitude, quote))"
      ],
      "metadata": {
        "id": "EPtq2MlriAEu"
      },
      "execution_count": null,
      "outputs": []
    },
    {
      "cell_type": "markdown",
      "source": [
        "#Negative Reviews\n",
        "Rating:1/5"
      ],
      "metadata": {
        "id": "s-Tud_Q2hTcM"
      }
    },
    {
      "cell_type": "code",
      "source": [
        "wlservice = build('language', 'v1beta1', developerKey=APIKEY)\n",
        "quotes = [\n",
        "      'Product very loose in the shoebox. ', 'Just so you know, they cost triple to send back if they don’t fit!']\n",
        "for quote in quotes:\n",
        "  response = lservice.documents().analyzeSentiment(\n",
        "    body={\n",
        "      'document': {\n",
        "         'type': 'PLAIN_TEXT',\n",
        "         'content': quote\n",
        "      }\n",
        "    }).execute()\n",
        "  polarity = response['documentSentiment']['polarity']\n",
        "  magnitude = response['documentSentiment']['magnitude']\n",
        "  print('POLARITY=%s MAGNITUDE=%s for %s' % (polarity, magnitude, quote))"
      ],
      "metadata": {
        "id": "l3voKSnJiL7I"
      },
      "execution_count": null,
      "outputs": []
    },
    {
      "cell_type": "markdown",
      "source": [
        "#Product 7\n",
        "\n",
        "Electronics\n",
        "\n",
        "4.7/5\n",
        "\n",
        "Total Product Reviews: 93,949"
      ],
      "metadata": {
        "id": "qWDrtb99XXMs"
      }
    },
    {
      "cell_type": "markdown",
      "source": [
        "## Positive Review"
      ],
      "metadata": {
        "id": "PNwO6YVvYS6v"
      }
    },
    {
      "cell_type": "code",
      "source": [
        "wlservice = build('language', 'v1beta1', developerKey=APIKEY)\n",
        "quotes = [\n",
        "      'Im soooooo happy with this amazing device!!!!', 'I want to give all my friends and family ones as a gifts and I want to buy one for my back door too!', 'This has been the best 100$ investment this year-well worth it!!!', 'I wish I would have bought one sooner.', 'Also, the neighbors app....amazing and I cant stop checking it out.'\n",
        "]\n",
        "for quote in quotes:\n",
        "  response = lservice.documents().analyzeSentiment(\n",
        "    body={\n",
        "      'document': {\n",
        "         'type': 'PLAIN_TEXT',\n",
        "         'content': quote\n",
        "      }\n",
        "    }).execute()\n",
        "  polarity = response['documentSentiment']['polarity']\n",
        "  magnitude = response['documentSentiment']['magnitude']\n",
        "  print('POLARITY=%s MAGNITUDE=%s for %s' % (polarity, magnitude, quote))"
      ],
      "metadata": {
        "colab": {
          "base_uri": "https://localhost:8080/"
        },
        "id": "yOQZZJoPXUiX",
        "outputId": "86a43946-75c6-4838-b764-fac118ce4fb9"
      },
      "execution_count": null,
      "outputs": [
        {
          "output_type": "stream",
          "name": "stdout",
          "text": [
            "POLARITY=1 MAGNITUDE=0.9 for Im soooooo happy with this amazing device!!!!\n",
            "POLARITY=1 MAGNITUDE=0.9 for I want to give all my friends and family ones as a gifts and I want to buy one for my back door too!\n",
            "POLARITY=1 MAGNITUDE=0.9 for This has been the best 100$ investment this year-well worth it!!!\n",
            "POLARITY=1 MAGNITUDE=0.9 for I wish I would have bought one sooner.\n",
            "POLARITY=1 MAGNITUDE=0.9 for Also, the neighbors app....amazing and I cant stop checking it out.\n"
          ]
        }
      ]
    },
    {
      "cell_type": "markdown",
      "source": [
        "## Negative Review"
      ],
      "metadata": {
        "id": "Ww3Er3oIYUrY"
      }
    },
    {
      "cell_type": "code",
      "source": [
        "wlservice = build('language', 'v1beta1', developerKey=APIKEY)\n",
        "quotes = [\n",
        "      'Dont waste your money this product is awful.', 'It doesnt catch motion of a human until someone is right up on it and then its too late for the image to be usefulvacated it will catch their ear as they walk by.', 'The mail man it will catch pull up but vacated ur takes him a second to get out the car or stops recording veggie he can get to it and it catches every single car that goes by my house no matter how I change the settings and detection around.', 'It is literal garbage in ever way and not useful for any application.', 'The notification it seems to my phone is also delayed and it is getting good signal from our internet.', 'It takes all day to recharge it as well.', 'This was a total waste of money!'\n",
        "]\n",
        "for quote in quotes:\n",
        "  response = lservice.documents().analyzeSentiment(\n",
        "    body={\n",
        "      'document': {\n",
        "         'type': 'PLAIN_TEXT',\n",
        "         'content': quote\n",
        "      }\n",
        "    }).execute()\n",
        "  polarity = response['documentSentiment']['polarity']\n",
        "  magnitude = response['documentSentiment']['magnitude']\n",
        "  print('POLARITY=%s MAGNITUDE=%s for %s' % (polarity, magnitude, quote))"
      ],
      "metadata": {
        "colab": {
          "base_uri": "https://localhost:8080/"
        },
        "id": "de8q9QYYYRlv",
        "outputId": "2546dff2-ecc9-4424-9769-9ec7e0de5e82"
      },
      "execution_count": null,
      "outputs": [
        {
          "output_type": "stream",
          "name": "stdout",
          "text": [
            "POLARITY=-1 MAGNITUDE=0.7 for Dont waste your money this product is awful.\n",
            "POLARITY=-1 MAGNITUDE=0.7 for It doesnt catch motion of a human until someone is right up on it and then its too late for the image to be usefulvacated it will catch their ear as they walk by.\n",
            "POLARITY=1 MAGNITUDE=0.2 for The mail man it will catch pull up but vacated ur takes him a second to get out the car or stops recording veggie he can get to it and it catches every single car that goes by my house no matter how I change the settings and detection around.\n",
            "POLARITY=-1 MAGNITUDE=0.8 for It is literal garbage in ever way and not useful for any application.\n",
            "POLARITY=-1 MAGNITUDE=0.7 for The notification it seems to my phone is also delayed and it is getting good signal from our internet.\n",
            "POLARITY=-1 MAGNITUDE=0.7 for It takes all day to recharge it as well.\n",
            "POLARITY=-1 MAGNITUDE=0.8 for This was a total waste of money!\n"
          ]
        }
      ]
    },
    {
      "cell_type": "markdown",
      "source": [
        "# Product 8\n",
        "\n",
        "Electronics\n",
        "\n",
        "4.6/5\n",
        "\n",
        "Overall Product Reviews: 32,448"
      ],
      "metadata": {
        "id": "ex7aLlxPY-Lh"
      }
    },
    {
      "cell_type": "markdown",
      "source": [
        "## Positive Review"
      ],
      "metadata": {
        "id": "w0tsv_z0ZsdZ"
      }
    },
    {
      "cell_type": "code",
      "source": [
        "wlservice = build('language', 'v1beta1', developerKey=APIKEY)\n",
        "quotes = [\n",
        "      'This USB C Hub comes with a great quality for a great price.', 'Definitely worth my money.', 'It is light weighted and small size, so it is easy for traveling.' ,'I wish I can get this earlier.', 'This hub is a pretty cool design!', 'I would highly recommend this to people who need a hub like this and dont want to spend a lot of money.'\n",
        "]\n",
        "for quote in quotes:\n",
        "  response = lservice.documents().analyzeSentiment(\n",
        "    body={\n",
        "      'document': {\n",
        "         'type': 'PLAIN_TEXT',\n",
        "         'content': quote\n",
        "      }\n",
        "    }).execute()\n",
        "  polarity = response['documentSentiment']['polarity']\n",
        "  magnitude = response['documentSentiment']['magnitude']\n",
        "  print('POLARITY=%s MAGNITUDE=%s for %s' % (polarity, magnitude, quote))"
      ],
      "metadata": {
        "colab": {
          "base_uri": "https://localhost:8080/"
        },
        "id": "GoGl9QhUZG8A",
        "outputId": "b9533fc4-de9d-43ab-a72b-7315c0533df5"
      },
      "execution_count": null,
      "outputs": [
        {
          "output_type": "stream",
          "name": "stdout",
          "text": [
            "POLARITY=1 MAGNITUDE=0.9 for This USB C Hub comes with a great quality for a great price.\n",
            "POLARITY=1 MAGNITUDE=0.9 for Definitely worth my money.\n",
            "POLARITY=1 MAGNITUDE=0.9 for It is light weighted and small size, so it is easy for traveling.\n",
            "POLARITY=1 MAGNITUDE=0.8 for I wish I can get this earlier.\n",
            "POLARITY=1 MAGNITUDE=0.9 for This hub is a pretty cool design!\n",
            "POLARITY=1 MAGNITUDE=0.9 for I would highly recommend this to people who need a hub like this and dont want to spend a lot of money.\n"
          ]
        }
      ]
    },
    {
      "cell_type": "markdown",
      "source": [
        "## Negative Review"
      ],
      "metadata": {
        "id": "pOup-yjHZqMH"
      }
    },
    {
      "cell_type": "code",
      "source": [
        "wlservice = build('language', 'v1beta1', developerKey=APIKEY)\n",
        "quotes = [\n",
        "      'I was truly disappointed and embarrassed.' ,'I will be returning this product, and buying something with better reviews and hopefully works without getting so hot.'\n",
        "]\n",
        "for quote in quotes:\n",
        "  response = lservice.documents().analyzeSentiment(\n",
        "    body={\n",
        "      'document': {\n",
        "         'type': 'PLAIN_TEXT',\n",
        "         'content': quote\n",
        "      }\n",
        "    }).execute()\n",
        "  polarity = response['documentSentiment']['polarity']\n",
        "  magnitude = response['documentSentiment']['magnitude']\n",
        "  print('POLARITY=%s MAGNITUDE=%s for %s' % (polarity, magnitude, quote))"
      ],
      "metadata": {
        "colab": {
          "base_uri": "https://localhost:8080/"
        },
        "id": "oquTEK7daexq",
        "outputId": "c794cbe9-5beb-42de-c4eb-e9a7aa386ddc"
      },
      "execution_count": null,
      "outputs": [
        {
          "output_type": "stream",
          "name": "stdout",
          "text": [
            "POLARITY=-1 MAGNITUDE=0.9 for I was truly disappointed and embarrassed.\n",
            "POLARITY=-1 MAGNITUDE=0.8 for I will be returning this product, and buying something with better reviews and hopefully works without getting so hot.\n"
          ]
        }
      ]
    },
    {
      "cell_type": "markdown",
      "source": [
        "# Product 9\n",
        "\n",
        "Electronics\n",
        "\n",
        "4.4/5\n",
        "\n",
        "Total Product Reviews: 37859\n"
      ],
      "metadata": {
        "id": "kbnALOPrboLP"
      }
    },
    {
      "cell_type": "markdown",
      "source": [
        "## Positive Review"
      ],
      "metadata": {
        "id": "-FuBgihjcF1u"
      }
    },
    {
      "cell_type": "code",
      "source": [
        "wlservice = build('language', 'v1beta1', developerKey=APIKEY)\n",
        "quotes = [\n",
        "      'This mouse is very nice!', 'I am a nurse in a long term care facility and we never use the word “quiet” but the clicks on here are nonexistent.' ,'It’s nice to not have to hear hundreds of clicks because it’s annoying after awhile, this is an awesome perk for me.'\n",
        "]\n",
        "for quote in quotes:\n",
        "  response = lservice.documents().analyzeSentiment(\n",
        "    body={\n",
        "      'document': {\n",
        "         'type': 'PLAIN_TEXT',\n",
        "         'content': quote\n",
        "      }\n",
        "    }).execute()\n",
        "  polarity = response['documentSentiment']['polarity']\n",
        "  magnitude = response['documentSentiment']['magnitude']\n",
        "  print('POLARITY=%s MAGNITUDE=%s for %s' % (polarity, magnitude, quote))"
      ],
      "metadata": {
        "colab": {
          "base_uri": "https://localhost:8080/"
        },
        "id": "gtv0VYSzbnUg",
        "outputId": "f602a725-5808-4744-973d-2784ffe053c3"
      },
      "execution_count": null,
      "outputs": [
        {
          "output_type": "stream",
          "name": "stdout",
          "text": [
            "POLARITY=1 MAGNITUDE=0.9 for This mouse is very nice!\n",
            "POLARITY=-1 MAGNITUDE=0.8 for I am a nurse in a long term care facility and we never use the word “quiet” but the clicks on here are nonexistent.\n",
            "POLARITY=1 MAGNITUDE=0.9 for It’s nice to not have to hear hundreds of clicks because it’s annoying after awhile, this is an awesome perk for me.\n"
          ]
        }
      ]
    },
    {
      "cell_type": "markdown",
      "source": [
        "## Negative Review"
      ],
      "metadata": {
        "id": "9zKUMKm5cHty"
      }
    },
    {
      "cell_type": "code",
      "source": [
        "wlservice = build('language', 'v1beta1', developerKey=APIKEY)\n",
        "quotes = [\n",
        "      'It is exactly what it said it was, but I was very disappointed to find out that I cant change what the buttons do' ,'The provided poorly-edited, single-fold 6\"x4\" scrap of paper called \"Quick User Manual\" is obviously meant to apply to dozens of different models and gives no details beyond setup.'\n",
        "]\n",
        "for quote in quotes:\n",
        "  response = lservice.documents().analyzeSentiment(\n",
        "    body={\n",
        "      'document': {\n",
        "         'type': 'PLAIN_TEXT',\n",
        "         'content': quote\n",
        "      }\n",
        "    }).execute()\n",
        "  polarity = response['documentSentiment']['polarity']\n",
        "  magnitude = response['documentSentiment']['magnitude']\n",
        "  print('POLARITY=%s MAGNITUDE=%s for %s' % (polarity, magnitude, quote))"
      ],
      "metadata": {
        "colab": {
          "base_uri": "https://localhost:8080/"
        },
        "id": "q1J39GShcEWq",
        "outputId": "b1c13f77-396e-4e65-922e-6e1f34a6af4a"
      },
      "execution_count": null,
      "outputs": [
        {
          "output_type": "stream",
          "name": "stdout",
          "text": [
            "POLARITY=-1 MAGNITUDE=0.6 for It is exactly what it said it was, but I was very disappointed to find out that I cant change what the buttons do\n",
            "POLARITY=-1 MAGNITUDE=0.8 for The provided poorly-edited, single-fold 6\"x4\" scrap of paper called \"Quick User Manual\" is obviously meant to apply to dozens of different models and gives no details beyond setup.\n"
          ]
        }
      ]
    },
    {
      "cell_type": "markdown",
      "source": [
        "# Analysis\n",
        "![Graph 1](https://github.com/ayeshasaeed97/QTM250-example/blob/main/Screen%20Shot%202022-04-20%20at%2010.09.18%20PM.png?raw=true)\n",
        "\n",
        "This visualization was made to see how a product's magnitude changes depending on whether we analyzed the positive or negative review. As we can see, a strong magnitude for a positive review is returned with a similar, if not slightly weaker, magnitude for a negative review. This shows that people might be using more emotionally charged words when satisfied with a product versus when not. However, we must acknowledge that we generally chose well-rated products overall. Perhaps if we chose a worse-rated product, that reviews would have more negatively charged wording.\n",
        "\n",
        "\n",
        "![Graph 2](https://github.com/ayeshasaeed97/QTM250-example/blob/main/Screen%20Shot%202022-04-20%20at%2010.09.36%20PM.png?raw=true)\n",
        "\n",
        "This visualization shows us that positive reviews are overal +1 in polarity while negative reviews are -1. We can see that the magnitude of reviews is higher for positive reviews as opposed to negative reviews. Once again, this could be due to the researcher's pick of reviews rather than being an accurate respresentation of \n",
        "\n",
        "![Graph 3](https://github.com/ayeshasaeed97/QTM250-example/blob/main/Screen%20Shot%202022-04-20%20at%2010.09.47%20PM.png?raw=true)\n",
        "\n",
        "This visualization is interesting as it tells us that, generally, products with more reviews have higher magnitudes. This could be that the more people like or dislike a product, the more likely they will go out of their way to write a review. They likely have strong opinions to write a review which results in their wording being more charged one way or another.\n"
      ],
      "metadata": {
        "id": "4P2y6goNveuf"
      }
    },
    {
      "cell_type": "markdown",
      "source": [
        "# Critiques of the API\n",
        "\n",
        "Overall, this API was easy and enjoyable to use. However, I realized that there are limitations in its output. For example, the API only gives a -1 or 1 for polarity. It does not really lable a word as neutral, like a value of 0, as we can see in our practice API call with the word \"The\" where it gave it a +1 polarity, but a very small magnitude. \"The\" is a very neutral word, so we wonder where the API derieves how it will judge a word."
      ],
      "metadata": {
        "id": "lwreWKX0-zQK"
      }
    },
    {
      "cell_type": "markdown",
      "source": [
        "#Architecture\n",
        "\n",
        "![Arch](https://github.com/ayeshasaeed97/qtm-250-hw-4-group-5/blob/main/Screen%20Shot%202022-04-20%20at%2011.09.30%20PM.png?raw=true)\n"
      ],
      "metadata": {
        "id": "qtsY1sXmGWGD"
      }
    }
  ]
}